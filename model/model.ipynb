{
 "cells": [
  {
   "cell_type": "code",
   "execution_count": 6,
   "metadata": {},
   "outputs": [
    {
     "name": "stdout",
     "output_type": "stream",
     "text": [
      "      Player Name  Ranking  Year  College Year Team    TS%   eFG%  Total S %  \\\n",
      "0  Brandon Clarke        4  2020          2019   GU  0.699  0.693      164.8   \n",
      "1     Buddy Hield        4  2017          2016   OU  0.665  0.623      183.7   \n",
      "2   Elfrid Payton        4  2015          2014   LA  0.551  0.524      137.7   \n",
      "3       Ja Morant        1  2020          2019  MSU  0.612  0.553      167.5   \n",
      "4   Keegan Murray        5  2023          2022   UI  0.638  0.614      169.9   \n",
      "\n",
      "   ORB%  DRB%  ...  STL%  BLK%  USG%  PPR  PPS   ORtg   DRtg  eDiff    FIC  \\\n",
      "0  13.9  19.7  ...   2.3  11.0  23.9 -1.0  1.7  138.1   83.8   54.4  683.4   \n",
      "1   4.0  13.0  ...   1.8   1.4  30.2 -4.7  1.5  124.1  100.7   23.4  553.8   \n",
      "2   7.1  11.8  ...   3.6   1.7  27.7  0.9  1.4  113.7  101.4   12.2  527.5   \n",
      "3   3.9  12.7  ...   2.7   2.3  33.3  4.1  1.5  119.5   95.1   24.4  680.8   \n",
      "4   9.8  20.1  ...   2.3   6.3  29.6 -0.4  1.5  135.1   96.0   39.0  681.0   \n",
      "\n",
      "    PER  \n",
      "0  34.6  \n",
      "1  26.7  \n",
      "2  23.6  \n",
      "3  29.9  \n",
      "4  38.1  \n",
      "\n",
      "[5 rows x 23 columns]\n",
      "TS%          0.052046\n",
      "eFG%         0.071551\n",
      "Total S %    0.061607\n",
      "ORB%         0.069877\n",
      "DRB%         0.056139\n",
      "TRB%         0.074325\n",
      "AST%         0.062064\n",
      "TOV%         0.036655\n",
      "STL%         0.058627\n",
      "BLK%         0.068719\n",
      "USG%         0.057719\n",
      "PPR          0.051559\n",
      "PPS          0.016758\n",
      "ORtg         0.047565\n",
      "DRtg         0.049574\n",
      "eDiff        0.052272\n",
      "FIC          0.058831\n",
      "PER          0.054112\n",
      "dtype: float64\n"
     ]
    },
    {
     "data": {
      "image/png": "[encoded data removed]",
      "text/plain": [
       "<Figure size 640x480 with 1 Axes>"
      ]
     },
     "metadata": {},
     "output_type": "display_data"
    },
    {
     "name": "stdout",
     "output_type": "stream",
     "text": [
      "Model Accuracy: 0.0\n",
      "Precision: 0.0\n",
      "Recall: 0.0\n",
      "F1-Score: 0.0\n",
      "              precision    recall  f1-score   support\n",
      "\n",
      "           1       0.00      0.00      0.00       5.0\n",
      "           2       0.00      0.00      0.00       6.0\n",
      "           3       0.00      0.00      0.00       2.0\n",
      "           4       0.00      0.00      0.00       2.0\n",
      "           5       0.00      0.00      0.00       2.0\n",
      "\n",
      "    accuracy                           0.00      17.0\n",
      "   macro avg       0.00      0.00      0.00      17.0\n",
      "weighted avg       0.00      0.00      0.00      17.0\n",
      "\n"
     ]
    }
   ],
   "source": [
    "# Import necessary libraries\n",
    "import pandas as pd\n",
    "from sklearn.model_selection import train_test_split\n",
    "from sklearn.ensemble import RandomForestClassifier\n",
    "from sklearn.metrics import accuracy_score, classification_report,precision_score, recall_score, f1_score\n",
    "import matplotlib.pyplot as plt\n",
    "\n",
    "# Load the data from the CSV file\n",
    "data = pd.read_csv(r'C:\\Users\\abmir\\Desktop\\nba_ROTY_predictor\\data.csv')\n",
    "\n",
    "# Display the first few rows of the dataset to understand its structure\n",
    "print(data.head())\n",
    "\n",
    "# print(data['Ranking'].value_counts())\n",
    "\n",
    "# Select features (X) and target variable (y)\n",
    "# In this case, let's use all columns except 'Player Name', 'Ranking', and 'Year' as features\n",
    "X = data.drop(['Player Name', 'Ranking', 'Year','College Year','Team'], axis=1)\n",
    "y = data['Ranking']\n",
    "\n",
    "# Split the data into training and testing sets (70/30 split)\n",
    "X_train, X_test, y_train, y_test = train_test_split(X, y, test_size=0.3, random_state=42)\n",
    "\n",
    "# Initialize a RandomForestClassifier for multi-class classification\n",
    "model = RandomForestClassifier(n_estimators=100, random_state=42)\n",
    "\n",
    "# Train the model on the training set\n",
    "model.fit(X_train, y_train)\n",
    "\n",
    "feature_importances = pd.Series(model.feature_importances_, index=X_train.columns)\n",
    "\n",
    "print(feature_importances)\n",
    "\n",
    "transpose_fi = feature_importances.T\n",
    "\n",
    "#making histogram for feature importances\n",
    "transpose_fi.plot(kind='barh', legend=False, color='skyblue')\n",
    "plt.show()\n",
    "\n",
    "# Make predictions on the testing set\n",
    "predictions = model.predict(X_test)\n",
    "\n",
    "# Evaluate the accuracy and other metrics of the model\n",
    "accuracy = accuracy_score(y_test, predictions)\n",
    "print(f'Model Accuracy: {accuracy}')\n",
    "\n",
    "# Additional classification metrics\n",
    "precision = precision_score(y_test, predictions, average='weighted')\n",
    "recall = recall_score(y_test, predictions, average='weighted')\n",
    "f1 = f1_score(y_test, predictions, average='weighted')\n",
    "\n",
    "print(f'Precision: {precision}')\n",
    "print(f'Recall: {recall}')\n",
    "print(f'F1-Score: {f1}')\n",
    "print(classification_report(y_test, predictions))\n"
   ]
  },
  {
   "cell_type": "code",
   "execution_count": null,
   "metadata": {},
   "outputs": [],
   "source": []
  }
 ],
 "metadata": {
  "kernelspec": {
   "display_name": "Python 3",
   "language": "python",
   "name": "python3"
  },
  "language_info": {
   "codemirror_mode": {
    "name": "ipython",
    "version": 3
   },
   "file_extension": ".py",
   "mimetype": "text/x-python",
   "name": "python",
   "nbconvert_exporter": "python",
   "pygments_lexer": "ipython3",
   "version": "3.7.6"
  }
 },
 "nbformat": 4,
 "nbformat_minor": 2
}
